{
 "cells": [
  {
   "cell_type": "code",
   "execution_count": 1,
   "source": [
    "import numpy as np\r\n",
    "import pandas as pd\r\n",
    "from scipy.linalg import null_space, svd, rq\r\n",
    "import json"
   ],
   "outputs": [],
   "metadata": {}
  },
  {
   "cell_type": "code",
   "execution_count": 2,
   "source": [
    "with open(\"cameraParams.json\") as f:\r\n",
    "    content = json.load(f)\r\n",
    "    gabarito = np.array(content['cameraTransform']['rows'])\r\n",
    "    gabarito2 = np.array(content['viewTransform']['rows'])"
   ],
   "outputs": [],
   "metadata": {}
  },
  {
   "cell_type": "code",
   "execution_count": 3,
   "source": [
    "width, height = 2048, 1360\r\n",
    "\r\n",
    "coords = np.array(( \r\n",
    "    (0,    0,    0, 860.4816753926701, 829.2356020942409), \r\n",
    "    (0,    0,    1, 755.9371727748690, 786.3455497382199), \r\n",
    "    (1,    0,    0, 981.1099476439790, 802.4293193717278), \r\n",
    "    (0,    1,    0, 852.4397905759163, 976.6701570680627), \r\n",
    "    (0,    1,    1, 753.2565445026178, 925.7382198952879), \r\n",
    "    (1,    1,    0, 970.3874345549738, 947.1832460732984),\r\n",
    "    (1,    0,    1, 879.2460732984293, 759.5392670157069),\r\n",
    "    (1,    1,    1, 879.2460732984293, 901.6125654450262),\r\n",
    "    (0,    0,    2, 667.4764397905759, 740.7748691099475)\r\n",
    ")).round()"
   ],
   "outputs": [],
   "metadata": {}
  },
  {
   "cell_type": "code",
   "execution_count": 4,
   "source": [
    "a=[]\r\n",
    "for i in range(coords.shape[0]): # para cada ponto e correspondente 3D\r\n",
    "  x,y,z,u,v = coords[i,:]\r\n",
    "  a.append([x,y,z,1,0,0,0,0,-u*x,-u*y,-u*z,-u])\r\n",
    "  a.append([0,0,0,0,x,y,z,1,-v*x,-v*y,-v*z,-v])"
   ],
   "outputs": [],
   "metadata": {}
  },
  {
   "cell_type": "code",
   "execution_count": 9,
   "source": [
    "a=np.array(a)\r\n",
    "U, s, Vh = svd(a)\r\n",
    "nm = Vh[-1,:]\r\n",
    "nm /= nm [-1]\r\n",
    "\r\n",
    "P = np.matrix(nm.reshape((3,4))) # Matrix de projeção\r\n",
    "M = P[:,:3] # slice da matriz P"
   ],
   "outputs": [],
   "metadata": {}
  },
  {
   "cell_type": "code",
   "execution_count": 10,
   "source": [
    "# ESTE É O VETOR POSIÇÃO DA CÂMERA\r\n",
    "C = (np.linalg.inv(M) @ P[:, -1])\r\n",
    "C.reshape(-1)"
   ],
   "outputs": [
    {
     "output_type": "execute_result",
     "data": {
      "text/plain": [
       "matrix([[11.66329729,  6.42106631, 14.19826186]])"
      ]
     },
     "metadata": {},
     "execution_count": 10
    }
   ],
   "metadata": {}
  },
  {
   "cell_type": "code",
   "execution_count": 15,
   "source": [
    "# RQ decomposition - separar intrinsec de extrinsec\r\n",
    "K, R = rq(M)"
   ],
   "outputs": [],
   "metadata": {}
  },
  {
   "cell_type": "code",
   "execution_count": 16,
   "source": [
    "# Correção de sinais na diagonal da matriz intrínseca\r\n",
    "T = np.diag(np.sign(np.diag(K)));\r\n",
    "K = K @ T;\r\n",
    "R = T @ R; "
   ],
   "outputs": [],
   "metadata": {}
  },
  {
   "cell_type": "code",
   "execution_count": 17,
   "source": [
    "# Calculo de offset para fazer o eixo coincidir com a quina da mesa\r\n",
    "2*(K[0,2]/K[2,2] - width/2), (K[1,2]/K[2,2] - height)"
   ],
   "outputs": [
    {
     "output_type": "execute_result",
     "data": {
      "text/plain": [
       "(177.90418063753987, -167.2946041615212)"
      ]
     },
     "metadata": {},
     "execution_count": 17
    }
   ],
   "metadata": {}
  },
  {
   "cell_type": "code",
   "execution_count": 18,
   "source": [
    "# Extrinsic completa\r\n",
    "extrinsic = np.hstack([R, -R@C])"
   ],
   "outputs": [],
   "metadata": {}
  },
  {
   "cell_type": "code",
   "execution_count": 20,
   "source": [
    "# Matrix da camera\r\n",
    "camera_matrix = np.array(np.vstack([extrinsic, [0,0,0,1]]))\r\n",
    "camera_matrix.reshape(-1)"
   ],
   "outputs": [
    {
     "output_type": "execute_result",
     "data": {
      "text/plain": [
       "array([  0.73309873,  -0.079348  ,  -0.67547772,   1.5497599 ,\n",
       "        -0.24203979,   0.89771331,  -0.36814067,   2.28566293,\n",
       "         0.63559657,   0.43337594,   0.63890711, -19.26725785,\n",
       "         0.        ,   0.        ,   0.        ,   1.        ])"
      ]
     },
     "metadata": {},
     "execution_count": 20
    }
   ],
   "metadata": {}
  },
  {
   "cell_type": "code",
   "execution_count": 21,
   "source": [
    "# Trocamos as linhas 2 e 3 de posição entre si pois as convenções usadas e a do three js são diferentes\r\n",
    "camera_matrix[[1,2]] = camera_matrix[[2,1]] \r\n",
    "camera_matrix.reshape(-1) \r\n"
   ],
   "outputs": [
    {
     "output_type": "execute_result",
     "data": {
      "text/plain": [
       "array([  0.73309873,  -0.079348  ,  -0.67547772,   1.5497599 ,\n",
       "         0.63559657,   0.43337594,   0.63890711, -19.26725785,\n",
       "        -0.24203979,   0.89771331,  -0.36814067,   2.28566293,\n",
       "         0.        ,   0.        ,   0.        ,   1.        ])"
      ]
     },
     "metadata": {},
     "execution_count": 21
    }
   ],
   "metadata": {}
  },
  {
   "cell_type": "code",
   "execution_count": null,
   "source": [],
   "outputs": [],
   "metadata": {}
  },
  {
   "cell_type": "code",
   "execution_count": null,
   "source": [],
   "outputs": [],
   "metadata": {}
  }
 ],
 "metadata": {
  "orig_nbformat": 4,
  "language_info": {
   "name": "python",
   "version": "3.8.8",
   "mimetype": "text/x-python",
   "codemirror_mode": {
    "name": "ipython",
    "version": 3
   },
   "pygments_lexer": "ipython3",
   "nbconvert_exporter": "python",
   "file_extension": ".py"
  },
  "kernelspec": {
   "name": "python3",
   "display_name": "Python 3.8.8 64-bit"
  },
  "interpreter": {
   "hash": "aa8e4de9f4426ab75fdef01f3d7947e2b3e9cfbdb80ba65115d4f20988c8517e"
  }
 },
 "nbformat": 4,
 "nbformat_minor": 2
}